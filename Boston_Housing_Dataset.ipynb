{
  "nbformat": 4,
  "nbformat_minor": 0,
  "metadata": {
    "colab": {
      "provenance": [],
      "authorship_tag": "ABX9TyML8TVEQERFCdbyxTmOsuSB",
      "include_colab_link": true
    },
    "kernelspec": {
      "name": "python3",
      "display_name": "Python 3"
    },
    "language_info": {
      "name": "python"
    }
  },
  "cells": [
    {
      "cell_type": "markdown",
      "metadata": {
        "id": "view-in-github",
        "colab_type": "text"
      },
      "source": [
        "<a href=\"https://colab.research.google.com/github/manishramamoorthy/manishramamoorthy/blob/main/Boston_Housing_Dataset.ipynb\" target=\"_parent\"><img src=\"https://colab.research.google.com/assets/colab-badge.svg\" alt=\"Open In Colab\"/></a>"
      ]
    },
    {
      "cell_type": "code",
      "execution_count": 3,
      "metadata": {
        "id": "CS0toYGSosAI"
      },
      "outputs": [],
      "source": [
        "import pandas as pd\n",
        "import numpy as np\n",
        "import matplotlib.pyplot as plt\n"
      ]
    },
    {
      "cell_type": "code",
      "source": [
        "# Import phi from train data set:\n",
        "phi = np.loadtxt('/content/train (1).csv', dtype='float', delimiter=',', skiprows=1,usecols=tuple(range(1, 14)))\n",
        "                "
      ],
      "metadata": {
        "id": "_SVT_XQuqEex"
      },
      "execution_count": 4,
      "outputs": []
    },
    {
      "cell_type": "code",
      "source": [
        "# Import y from train data set\n",
        "y = np.loadtxt('/content/train (1).csv', dtype='float', delimiter=',', skiprows=1, usecols=14, ndmin=2)\n",
        "              "
      ],
      "metadata": {
        "id": "rhc3DDU2qEka"
      },
      "execution_count": 5,
      "outputs": []
    },
    {
      "cell_type": "code",
      "source": [
        "# Import phi_test from test data set\n",
        "phi_test = np.loadtxt('/content/test.csv', dtype='float', delimiter=',',skiprows=1, usecols=tuple(range(1, 14)))\n",
        "                      "
      ],
      "metadata": {
        "id": "53oImXd8qEl0"
      },
      "execution_count": 6,
      "outputs": []
    },
    {
      "cell_type": "code",
      "source": [
        "# Add a cloloumn of 1s to right of phi and phi_test\n",
        "phi_test = np.concatenate((phi_test, np.ones((105, 1))), axis=1)\n",
        "phi = np.concatenate((phi, np.ones((400, 1))), axis=1)"
      ],
      "metadata": {
        "id": "xSgKN3QwwchD"
      },
      "execution_count": 7,
      "outputs": []
    },
    {
      "cell_type": "code",
      "source": [
        "# Min Max scaling for phi and phi_test (Feature Engineering)\n",
        "for i in range(0, 13):\n",
        "    col_max = max(phi[:, i])\n",
        "    col_min = min(phi[:, i])\n",
        "    phi[:, i] = (phi[:, i] - col_min) / (col_max - col_min)\n",
        "    phi_test[:, i] = (phi_test[:, i] - col_min) / (col_max - col_min)\n",
        "\n",
        "# Log scaling on y\n",
        "y = np.log(y)"
      ],
      "metadata": {
        "id": "BdRap0TWwcjq"
      },
      "execution_count": 8,
      "outputs": []
    },
    {
      "cell_type": "code",
      "source": [
        "# Function to calculate change in error function\n",
        "def delta_w(p, phi, w):\n",
        "    if p == 2:\n",
        "        deltaw = (2 * (np.dot(np.dot(np.transpose(phi), phi), w) -\n",
        "                       np.dot(np.transpose(phi), y)) +\n",
        "                  lambd * p * np.power(np.absolute(w), (p - 1)))\n",
        "    if p < 2 and p > 1:\n",
        "        deltaw = (2 * (np.dot(np.dot(np.transpose(phi), phi), w) -\n",
        "                       np.dot(np.transpose(phi), y)) +\n",
        "                  lambd * p * np.power(np.absolute(w), (p - 1)) * np.sign(w))\n",
        "    return deltaw\n"
      ],
      "metadata": {
        "id": "N2qCi0IKwcmS"
      },
      "execution_count": 9,
      "outputs": []
    },
    {
      "cell_type": "code",
      "source": [
        "# Dictionary containing filenames as keys and p as values\n",
        "filenames = {'output.csv': 2.0,\n",
        "             'output_p1.csv': 1.75,\n",
        "             'output_p2.csv': 1.5,\n",
        "             'output_p3.csv': 1.3\n",
        "             }\n"
      ],
      "metadata": {
        "id": "QA4iEKtdwco6"
      },
      "execution_count": 10,
      "outputs": []
    },
    {
      "cell_type": "code",
      "source": [
        "# For each item in this dictionary\n",
        "for (fname, p) in filenames.items():\n",
        "    # Set initial w to zeros\n",
        "    w = np.zeros((14, 1))\n",
        "    # Hyperparameter lambda value\n",
        "    lambd = 0.2\n",
        "    # Maximum step size\n",
        "    t = 0.00012\n",
        "    # Calculate new value of w\n",
        "    w_new = w - t * delta_w(p, phi,w)\n",
        "    i = 0\n",
        "    # Repeat steps until error between consecutive w is less than threshold\n",
        "    while(np.linalg.norm(w_new-w) > 10 ** -10):\n",
        "        w = w_new\n",
        "        w_new = w - t * delta_w(p, phi, w)\n",
        "        i = i + 1\n"
      ],
      "metadata": {
        "id": "S2Xa2IK_wcr1"
      },
      "execution_count": 11,
      "outputs": []
    },
    {
      "cell_type": "code",
      "source": [
        "# For each item in this dictionary\n",
        "for (fname, p) in filenames.items():\n",
        "    # Set initial w to zeros\n",
        "    w = np.zeros((14, 1))\n",
        "\n",
        "    # Hyperparameter lambda value\n",
        "    lambd = 0.2\n",
        "\n",
        "    # Maximum step size\n",
        "    t = 0.00012\n",
        "\n",
        "\n",
        "   \n"
      ],
      "metadata": {
        "id": "8X6hPJebwcu-"
      },
      "execution_count": 12,
      "outputs": []
    },
    {
      "cell_type": "code",
      "source": [
        " # Load values of id\n",
        "id_test = np.loadtxt('/content/test.csv', dtype='int', delimiter=',',skiprows=1, usecols=0, ndmin=2)\n",
        "                         \n"
      ],
      "metadata": {
        "id": "4UN_LQz0yMRj"
      },
      "execution_count": 13,
      "outputs": []
    },
    {
      "cell_type": "code",
      "source": [
        "# Calculate y for test data\n",
        "y_test = np.exp(np.dot(phi_test, w_new))"
      ],
      "metadata": {
        "id": "A3Hq75fiyMUZ"
      },
      "execution_count": 14,
      "outputs": []
    },
    {
      "cell_type": "code",
      "source": [
        " # Save the ids and y\n",
        "np.savetxt(fname, np.concatenate((id_test, y_test), axis=1),delimiter=',', fmt=['%d', '%f'], header='ID,MEDV', comments='')\n",
        "               \n",
        "              "
      ],
      "metadata": {
        "id": "Tbm9sJKUyYPs"
      },
      "execution_count": 15,
      "outputs": []
    }
  ]
}