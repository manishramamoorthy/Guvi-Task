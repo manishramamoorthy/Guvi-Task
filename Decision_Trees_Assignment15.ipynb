{
  "nbformat": 4,
  "nbformat_minor": 0,
  "metadata": {
    "colab": {
      "provenance": [],
      "include_colab_link": true
    },
    "kernelspec": {
      "name": "python3",
      "display_name": "Python 3"
    },
    "language_info": {
      "name": "python"
    }
  },
  "cells": [
    {
      "cell_type": "markdown",
      "metadata": {
        "id": "view-in-github",
        "colab_type": "text"
      },
      "source": [
        "<a href=\"https://colab.research.google.com/github/manishramamoorthy/Guvi-Task/blob/main/Decision_Trees_Assignment15.ipynb\" target=\"_parent\"><img src=\"https://colab.research.google.com/assets/colab-badge.svg\" alt=\"Open In Colab\"/></a>"
      ]
    },
    {
      "cell_type": "code",
      "metadata": {
        "id": "eqp7Q6rWnX20"
      },
      "source": [
        "#Social_Network_Ads.csv"
      ],
      "execution_count": null,
      "outputs": []
    },
    {
      "cell_type": "markdown",
      "metadata": {
        "id": "1jSlqZcZnmrD"
      },
      "source": [
        "**Importing the libraries**"
      ]
    },
    {
      "cell_type": "code",
      "metadata": {
        "id": "ACJTKMfInp-E"
      },
      "source": [
        "import pandas as pd"
      ],
      "execution_count": 1,
      "outputs": []
    },
    {
      "cell_type": "markdown",
      "metadata": {
        "id": "fRZkaj-dnxIj"
      },
      "source": [
        "**Importing the dataset**"
      ]
    },
    {
      "cell_type": "code",
      "metadata": {
        "id": "SfTR4mVDnqBV",
        "outputId": "4c29184c-2570-4fa1-a880-07bf098202f3",
        "colab": {
          "base_uri": "https://localhost:8080/",
          "height": 206
        }
      },
      "source": [
        "data = pd.read_csv(\"/content/Social_Network_Ads.csv\")\n",
        "data.head()"
      ],
      "execution_count": 2,
      "outputs": [
        {
          "output_type": "execute_result",
          "data": {
            "text/plain": [
              "    User ID  Gender  Age  EstimatedSalary  Purchased\n",
              "0  15624510    Male   19            19000          0\n",
              "1  15810944    Male   35            20000          0\n",
              "2  15668575  Female   26            43000          0\n",
              "3  15603246  Female   27            57000          0\n",
              "4  15804002    Male   19            76000          0"
            ],
            "text/html": [
              "\n",
              "  <div id=\"df-778fbf1f-ed8a-4ceb-b37d-2d8d6e2984a3\">\n",
              "    <div class=\"colab-df-container\">\n",
              "      <div>\n",
              "<style scoped>\n",
              "    .dataframe tbody tr th:only-of-type {\n",
              "        vertical-align: middle;\n",
              "    }\n",
              "\n",
              "    .dataframe tbody tr th {\n",
              "        vertical-align: top;\n",
              "    }\n",
              "\n",
              "    .dataframe thead th {\n",
              "        text-align: right;\n",
              "    }\n",
              "</style>\n",
              "<table border=\"1\" class=\"dataframe\">\n",
              "  <thead>\n",
              "    <tr style=\"text-align: right;\">\n",
              "      <th></th>\n",
              "      <th>User ID</th>\n",
              "      <th>Gender</th>\n",
              "      <th>Age</th>\n",
              "      <th>EstimatedSalary</th>\n",
              "      <th>Purchased</th>\n",
              "    </tr>\n",
              "  </thead>\n",
              "  <tbody>\n",
              "    <tr>\n",
              "      <th>0</th>\n",
              "      <td>15624510</td>\n",
              "      <td>Male</td>\n",
              "      <td>19</td>\n",
              "      <td>19000</td>\n",
              "      <td>0</td>\n",
              "    </tr>\n",
              "    <tr>\n",
              "      <th>1</th>\n",
              "      <td>15810944</td>\n",
              "      <td>Male</td>\n",
              "      <td>35</td>\n",
              "      <td>20000</td>\n",
              "      <td>0</td>\n",
              "    </tr>\n",
              "    <tr>\n",
              "      <th>2</th>\n",
              "      <td>15668575</td>\n",
              "      <td>Female</td>\n",
              "      <td>26</td>\n",
              "      <td>43000</td>\n",
              "      <td>0</td>\n",
              "    </tr>\n",
              "    <tr>\n",
              "      <th>3</th>\n",
              "      <td>15603246</td>\n",
              "      <td>Female</td>\n",
              "      <td>27</td>\n",
              "      <td>57000</td>\n",
              "      <td>0</td>\n",
              "    </tr>\n",
              "    <tr>\n",
              "      <th>4</th>\n",
              "      <td>15804002</td>\n",
              "      <td>Male</td>\n",
              "      <td>19</td>\n",
              "      <td>76000</td>\n",
              "      <td>0</td>\n",
              "    </tr>\n",
              "  </tbody>\n",
              "</table>\n",
              "</div>\n",
              "      <button class=\"colab-df-convert\" onclick=\"convertToInteractive('df-778fbf1f-ed8a-4ceb-b37d-2d8d6e2984a3')\"\n",
              "              title=\"Convert this dataframe to an interactive table.\"\n",
              "              style=\"display:none;\">\n",
              "        \n",
              "  <svg xmlns=\"http://www.w3.org/2000/svg\" height=\"24px\"viewBox=\"0 0 24 24\"\n",
              "       width=\"24px\">\n",
              "    <path d=\"M0 0h24v24H0V0z\" fill=\"none\"/>\n",
              "    <path d=\"M18.56 5.44l.94 2.06.94-2.06 2.06-.94-2.06-.94-.94-2.06-.94 2.06-2.06.94zm-11 1L8.5 8.5l.94-2.06 2.06-.94-2.06-.94L8.5 2.5l-.94 2.06-2.06.94zm10 10l.94 2.06.94-2.06 2.06-.94-2.06-.94-.94-2.06-.94 2.06-2.06.94z\"/><path d=\"M17.41 7.96l-1.37-1.37c-.4-.4-.92-.59-1.43-.59-.52 0-1.04.2-1.43.59L10.3 9.45l-7.72 7.72c-.78.78-.78 2.05 0 2.83L4 21.41c.39.39.9.59 1.41.59.51 0 1.02-.2 1.41-.59l7.78-7.78 2.81-2.81c.8-.78.8-2.07 0-2.86zM5.41 20L4 18.59l7.72-7.72 1.47 1.35L5.41 20z\"/>\n",
              "  </svg>\n",
              "      </button>\n",
              "      \n",
              "  <style>\n",
              "    .colab-df-container {\n",
              "      display:flex;\n",
              "      flex-wrap:wrap;\n",
              "      gap: 12px;\n",
              "    }\n",
              "\n",
              "    .colab-df-convert {\n",
              "      background-color: #E8F0FE;\n",
              "      border: none;\n",
              "      border-radius: 50%;\n",
              "      cursor: pointer;\n",
              "      display: none;\n",
              "      fill: #1967D2;\n",
              "      height: 32px;\n",
              "      padding: 0 0 0 0;\n",
              "      width: 32px;\n",
              "    }\n",
              "\n",
              "    .colab-df-convert:hover {\n",
              "      background-color: #E2EBFA;\n",
              "      box-shadow: 0px 1px 2px rgba(60, 64, 67, 0.3), 0px 1px 3px 1px rgba(60, 64, 67, 0.15);\n",
              "      fill: #174EA6;\n",
              "    }\n",
              "\n",
              "    [theme=dark] .colab-df-convert {\n",
              "      background-color: #3B4455;\n",
              "      fill: #D2E3FC;\n",
              "    }\n",
              "\n",
              "    [theme=dark] .colab-df-convert:hover {\n",
              "      background-color: #434B5C;\n",
              "      box-shadow: 0px 1px 3px 1px rgba(0, 0, 0, 0.15);\n",
              "      filter: drop-shadow(0px 1px 2px rgba(0, 0, 0, 0.3));\n",
              "      fill: #FFFFFF;\n",
              "    }\n",
              "  </style>\n",
              "\n",
              "      <script>\n",
              "        const buttonEl =\n",
              "          document.querySelector('#df-778fbf1f-ed8a-4ceb-b37d-2d8d6e2984a3 button.colab-df-convert');\n",
              "        buttonEl.style.display =\n",
              "          google.colab.kernel.accessAllowed ? 'block' : 'none';\n",
              "\n",
              "        async function convertToInteractive(key) {\n",
              "          const element = document.querySelector('#df-778fbf1f-ed8a-4ceb-b37d-2d8d6e2984a3');\n",
              "          const dataTable =\n",
              "            await google.colab.kernel.invokeFunction('convertToInteractive',\n",
              "                                                     [key], {});\n",
              "          if (!dataTable) return;\n",
              "\n",
              "          const docLinkHtml = 'Like what you see? Visit the ' +\n",
              "            '<a target=\"_blank\" href=https://colab.research.google.com/notebooks/data_table.ipynb>data table notebook</a>'\n",
              "            + ' to learn more about interactive tables.';\n",
              "          element.innerHTML = '';\n",
              "          dataTable['output_type'] = 'display_data';\n",
              "          await google.colab.output.renderOutput(dataTable, element);\n",
              "          const docLink = document.createElement('div');\n",
              "          docLink.innerHTML = docLinkHtml;\n",
              "          element.appendChild(docLink);\n",
              "        }\n",
              "      </script>\n",
              "    </div>\n",
              "  </div>\n",
              "  "
            ]
          },
          "metadata": {},
          "execution_count": 2
        }
      ]
    },
    {
      "cell_type": "code",
      "source": [
        "data.shape"
      ],
      "metadata": {
        "id": "CZnqmPHrKrTs",
        "outputId": "5b1af9a1-bda8-4e8d-8965-d1e9c85d8543",
        "colab": {
          "base_uri": "https://localhost:8080/"
        }
      },
      "execution_count": 3,
      "outputs": [
        {
          "output_type": "execute_result",
          "data": {
            "text/plain": [
              "(400, 5)"
            ]
          },
          "metadata": {},
          "execution_count": 3
        }
      ]
    },
    {
      "cell_type": "code",
      "source": [
        "data.info()"
      ],
      "metadata": {
        "id": "Vadm33QBKrWi",
        "outputId": "0e55ece3-0369-418e-c1b7-47bc40bc2c09",
        "colab": {
          "base_uri": "https://localhost:8080/"
        }
      },
      "execution_count": 4,
      "outputs": [
        {
          "output_type": "stream",
          "name": "stdout",
          "text": [
            "<class 'pandas.core.frame.DataFrame'>\n",
            "RangeIndex: 400 entries, 0 to 399\n",
            "Data columns (total 5 columns):\n",
            " #   Column           Non-Null Count  Dtype \n",
            "---  ------           --------------  ----- \n",
            " 0   User ID          400 non-null    int64 \n",
            " 1   Gender           400 non-null    object\n",
            " 2   Age              400 non-null    int64 \n",
            " 3   EstimatedSalary  400 non-null    int64 \n",
            " 4   Purchased        400 non-null    int64 \n",
            "dtypes: int64(4), object(1)\n",
            "memory usage: 15.8+ KB\n"
          ]
        }
      ]
    },
    {
      "cell_type": "code",
      "source": [
        "data.describe()"
      ],
      "metadata": {
        "id": "6cBaRwkoKrY4",
        "outputId": "1d85c906-dc4a-478c-fe81-09d78aa56240",
        "colab": {
          "base_uri": "https://localhost:8080/",
          "height": 300
        }
      },
      "execution_count": 5,
      "outputs": [
        {
          "output_type": "execute_result",
          "data": {
            "text/plain": [
              "            User ID         Age  EstimatedSalary   Purchased\n",
              "count  4.000000e+02  400.000000       400.000000  400.000000\n",
              "mean   1.569154e+07   37.655000     69742.500000    0.357500\n",
              "std    7.165832e+04   10.482877     34096.960282    0.479864\n",
              "min    1.556669e+07   18.000000     15000.000000    0.000000\n",
              "25%    1.562676e+07   29.750000     43000.000000    0.000000\n",
              "50%    1.569434e+07   37.000000     70000.000000    0.000000\n",
              "75%    1.575036e+07   46.000000     88000.000000    1.000000\n",
              "max    1.581524e+07   60.000000    150000.000000    1.000000"
            ],
            "text/html": [
              "\n",
              "  <div id=\"df-fef757f2-f974-49f7-85b0-ad4193cbb4e9\">\n",
              "    <div class=\"colab-df-container\">\n",
              "      <div>\n",
              "<style scoped>\n",
              "    .dataframe tbody tr th:only-of-type {\n",
              "        vertical-align: middle;\n",
              "    }\n",
              "\n",
              "    .dataframe tbody tr th {\n",
              "        vertical-align: top;\n",
              "    }\n",
              "\n",
              "    .dataframe thead th {\n",
              "        text-align: right;\n",
              "    }\n",
              "</style>\n",
              "<table border=\"1\" class=\"dataframe\">\n",
              "  <thead>\n",
              "    <tr style=\"text-align: right;\">\n",
              "      <th></th>\n",
              "      <th>User ID</th>\n",
              "      <th>Age</th>\n",
              "      <th>EstimatedSalary</th>\n",
              "      <th>Purchased</th>\n",
              "    </tr>\n",
              "  </thead>\n",
              "  <tbody>\n",
              "    <tr>\n",
              "      <th>count</th>\n",
              "      <td>4.000000e+02</td>\n",
              "      <td>400.000000</td>\n",
              "      <td>400.000000</td>\n",
              "      <td>400.000000</td>\n",
              "    </tr>\n",
              "    <tr>\n",
              "      <th>mean</th>\n",
              "      <td>1.569154e+07</td>\n",
              "      <td>37.655000</td>\n",
              "      <td>69742.500000</td>\n",
              "      <td>0.357500</td>\n",
              "    </tr>\n",
              "    <tr>\n",
              "      <th>std</th>\n",
              "      <td>7.165832e+04</td>\n",
              "      <td>10.482877</td>\n",
              "      <td>34096.960282</td>\n",
              "      <td>0.479864</td>\n",
              "    </tr>\n",
              "    <tr>\n",
              "      <th>min</th>\n",
              "      <td>1.556669e+07</td>\n",
              "      <td>18.000000</td>\n",
              "      <td>15000.000000</td>\n",
              "      <td>0.000000</td>\n",
              "    </tr>\n",
              "    <tr>\n",
              "      <th>25%</th>\n",
              "      <td>1.562676e+07</td>\n",
              "      <td>29.750000</td>\n",
              "      <td>43000.000000</td>\n",
              "      <td>0.000000</td>\n",
              "    </tr>\n",
              "    <tr>\n",
              "      <th>50%</th>\n",
              "      <td>1.569434e+07</td>\n",
              "      <td>37.000000</td>\n",
              "      <td>70000.000000</td>\n",
              "      <td>0.000000</td>\n",
              "    </tr>\n",
              "    <tr>\n",
              "      <th>75%</th>\n",
              "      <td>1.575036e+07</td>\n",
              "      <td>46.000000</td>\n",
              "      <td>88000.000000</td>\n",
              "      <td>1.000000</td>\n",
              "    </tr>\n",
              "    <tr>\n",
              "      <th>max</th>\n",
              "      <td>1.581524e+07</td>\n",
              "      <td>60.000000</td>\n",
              "      <td>150000.000000</td>\n",
              "      <td>1.000000</td>\n",
              "    </tr>\n",
              "  </tbody>\n",
              "</table>\n",
              "</div>\n",
              "      <button class=\"colab-df-convert\" onclick=\"convertToInteractive('df-fef757f2-f974-49f7-85b0-ad4193cbb4e9')\"\n",
              "              title=\"Convert this dataframe to an interactive table.\"\n",
              "              style=\"display:none;\">\n",
              "        \n",
              "  <svg xmlns=\"http://www.w3.org/2000/svg\" height=\"24px\"viewBox=\"0 0 24 24\"\n",
              "       width=\"24px\">\n",
              "    <path d=\"M0 0h24v24H0V0z\" fill=\"none\"/>\n",
              "    <path d=\"M18.56 5.44l.94 2.06.94-2.06 2.06-.94-2.06-.94-.94-2.06-.94 2.06-2.06.94zm-11 1L8.5 8.5l.94-2.06 2.06-.94-2.06-.94L8.5 2.5l-.94 2.06-2.06.94zm10 10l.94 2.06.94-2.06 2.06-.94-2.06-.94-.94-2.06-.94 2.06-2.06.94z\"/><path d=\"M17.41 7.96l-1.37-1.37c-.4-.4-.92-.59-1.43-.59-.52 0-1.04.2-1.43.59L10.3 9.45l-7.72 7.72c-.78.78-.78 2.05 0 2.83L4 21.41c.39.39.9.59 1.41.59.51 0 1.02-.2 1.41-.59l7.78-7.78 2.81-2.81c.8-.78.8-2.07 0-2.86zM5.41 20L4 18.59l7.72-7.72 1.47 1.35L5.41 20z\"/>\n",
              "  </svg>\n",
              "      </button>\n",
              "      \n",
              "  <style>\n",
              "    .colab-df-container {\n",
              "      display:flex;\n",
              "      flex-wrap:wrap;\n",
              "      gap: 12px;\n",
              "    }\n",
              "\n",
              "    .colab-df-convert {\n",
              "      background-color: #E8F0FE;\n",
              "      border: none;\n",
              "      border-radius: 50%;\n",
              "      cursor: pointer;\n",
              "      display: none;\n",
              "      fill: #1967D2;\n",
              "      height: 32px;\n",
              "      padding: 0 0 0 0;\n",
              "      width: 32px;\n",
              "    }\n",
              "\n",
              "    .colab-df-convert:hover {\n",
              "      background-color: #E2EBFA;\n",
              "      box-shadow: 0px 1px 2px rgba(60, 64, 67, 0.3), 0px 1px 3px 1px rgba(60, 64, 67, 0.15);\n",
              "      fill: #174EA6;\n",
              "    }\n",
              "\n",
              "    [theme=dark] .colab-df-convert {\n",
              "      background-color: #3B4455;\n",
              "      fill: #D2E3FC;\n",
              "    }\n",
              "\n",
              "    [theme=dark] .colab-df-convert:hover {\n",
              "      background-color: #434B5C;\n",
              "      box-shadow: 0px 1px 3px 1px rgba(0, 0, 0, 0.15);\n",
              "      filter: drop-shadow(0px 1px 2px rgba(0, 0, 0, 0.3));\n",
              "      fill: #FFFFFF;\n",
              "    }\n",
              "  </style>\n",
              "\n",
              "      <script>\n",
              "        const buttonEl =\n",
              "          document.querySelector('#df-fef757f2-f974-49f7-85b0-ad4193cbb4e9 button.colab-df-convert');\n",
              "        buttonEl.style.display =\n",
              "          google.colab.kernel.accessAllowed ? 'block' : 'none';\n",
              "\n",
              "        async function convertToInteractive(key) {\n",
              "          const element = document.querySelector('#df-fef757f2-f974-49f7-85b0-ad4193cbb4e9');\n",
              "          const dataTable =\n",
              "            await google.colab.kernel.invokeFunction('convertToInteractive',\n",
              "                                                     [key], {});\n",
              "          if (!dataTable) return;\n",
              "\n",
              "          const docLinkHtml = 'Like what you see? Visit the ' +\n",
              "            '<a target=\"_blank\" href=https://colab.research.google.com/notebooks/data_table.ipynb>data table notebook</a>'\n",
              "            + ' to learn more about interactive tables.';\n",
              "          element.innerHTML = '';\n",
              "          dataTable['output_type'] = 'display_data';\n",
              "          await google.colab.output.renderOutput(dataTable, element);\n",
              "          const docLink = document.createElement('div');\n",
              "          docLink.innerHTML = docLinkHtml;\n",
              "          element.appendChild(docLink);\n",
              "        }\n",
              "      </script>\n",
              "    </div>\n",
              "  </div>\n",
              "  "
            ]
          },
          "metadata": {},
          "execution_count": 5
        }
      ]
    },
    {
      "cell_type": "code",
      "source": [
        "data.isnull().sum()"
      ],
      "metadata": {
        "id": "hgxfhMcmKrb7",
        "outputId": "1bf5b400-dfa0-4fff-dc7b-fcc3f9e1c537",
        "colab": {
          "base_uri": "https://localhost:8080/"
        }
      },
      "execution_count": 6,
      "outputs": [
        {
          "output_type": "execute_result",
          "data": {
            "text/plain": [
              "User ID            0\n",
              "Gender             0\n",
              "Age                0\n",
              "EstimatedSalary    0\n",
              "Purchased          0\n",
              "dtype: int64"
            ]
          },
          "metadata": {},
          "execution_count": 6
        }
      ]
    },
    {
      "cell_type": "code",
      "source": [
        "data = data.drop_duplicates()"
      ],
      "metadata": {
        "id": "cZW3QFbtKreZ"
      },
      "execution_count": 7,
      "outputs": []
    },
    {
      "cell_type": "code",
      "source": [
        "del data[\"User ID\"]"
      ],
      "metadata": {
        "id": "qfs7gOplLadU"
      },
      "execution_count": 8,
      "outputs": []
    },
    {
      "cell_type": "code",
      "source": [
        "data[\"Gender\"].unique()"
      ],
      "metadata": {
        "id": "8J5O44O3M5qD",
        "outputId": "7c8fd1f8-4b85-4285-a2d4-9770a1fd0cf3",
        "colab": {
          "base_uri": "https://localhost:8080/"
        }
      },
      "execution_count": 15,
      "outputs": [
        {
          "output_type": "execute_result",
          "data": {
            "text/plain": [
              "array(['Male', 'Female'], dtype=object)"
            ]
          },
          "metadata": {},
          "execution_count": 15
        }
      ]
    },
    {
      "cell_type": "code",
      "source": [
        "data[\"Gender\"] = data[\"Gender\"].map({\"Male\":1,\"Female\":0})"
      ],
      "metadata": {
        "id": "qEpPK_P0NGIE"
      },
      "execution_count": 16,
      "outputs": []
    },
    {
      "cell_type": "markdown",
      "metadata": {
        "id": "9Thl3lvkn9Kr"
      },
      "source": [
        "**Splitting the dataset into the Training set and Test set**"
      ]
    },
    {
      "cell_type": "code",
      "metadata": {
        "id": "sp359H4XnqD3"
      },
      "source": [
        "X = data.drop([\"Purchased\"],axis=1)\n",
        "y = data[\"Purchased\"]"
      ],
      "execution_count": 17,
      "outputs": []
    },
    {
      "cell_type": "code",
      "source": [
        "from sklearn.model_selection import train_test_split\n",
        "X_train,X_test,y_train,y_test = train_test_split(X,y,test_size=0.25)"
      ],
      "metadata": {
        "id": "5r3rr1oELzSc"
      },
      "execution_count": 18,
      "outputs": []
    },
    {
      "cell_type": "markdown",
      "metadata": {
        "id": "XNNxUncRoG6K"
      },
      "source": [
        "**Feature Scaling**"
      ]
    },
    {
      "cell_type": "code",
      "metadata": {
        "id": "loYjT47TnqIG"
      },
      "source": [
        "from sklearn.preprocessing import StandardScaler\n",
        "scaler = StandardScaler()\n",
        "X_train = scaler.fit_transform(X_train)\n",
        "X_test = scaler.transform(X_test)"
      ],
      "execution_count": 19,
      "outputs": []
    },
    {
      "cell_type": "markdown",
      "metadata": {
        "id": "_VB4b09roPhq"
      },
      "source": [
        "**Fitting Decision Tree Classification to the Training set**"
      ]
    },
    {
      "cell_type": "code",
      "metadata": {
        "id": "0UxhDc2lnqKu",
        "outputId": "8b78a059-95bf-4274-8732-70d043a96aeb",
        "colab": {
          "base_uri": "https://localhost:8080/"
        }
      },
      "source": [
        "from sklearn.tree import DecisionTreeClassifier\n",
        "DT = DecisionTreeClassifier()\n",
        "DT.fit(X_train,y_train)"
      ],
      "execution_count": 21,
      "outputs": [
        {
          "output_type": "execute_result",
          "data": {
            "text/plain": [
              "DecisionTreeClassifier()"
            ]
          },
          "metadata": {},
          "execution_count": 21
        }
      ]
    },
    {
      "cell_type": "code",
      "source": [
        "X_train"
      ],
      "metadata": {
        "id": "BTFfWOKKN9x9",
        "outputId": "5ac938c2-156a-4782-e2f6-37b9f9cb24f9",
        "colab": {
          "base_uri": "https://localhost:8080/"
        }
      },
      "execution_count": 22,
      "outputs": [
        {
          "output_type": "execute_result",
          "data": {
            "text/plain": [
              "array([[ 0.97367959,  0.45543426, -0.13355362],\n",
              "       [-1.0270319 ,  0.3571391 ,  0.3159537 ],\n",
              "       [ 0.97367959, -0.52751739, -1.54200987],\n",
              "       [ 0.97367959, -0.23263189, -0.58306093],\n",
              "       [ 0.97367959, -0.23263189, -1.42214126],\n",
              "       [-1.0270319 ,  0.84861492,  0.37588801],\n",
              "       [ 0.97367959, -1.11728838, -1.12246971],\n",
              "       [-1.0270319 ,  0.0622536 ,  1.30486979],\n",
              "       [-1.0270319 ,  0.84861492,  0.13615077],\n",
              "       [-1.0270319 , -0.92069805,  0.52572378],\n",
              "       [-1.0270319 , -0.33092706,  0.07621646],\n",
              "       [ 0.97367959, -0.92069805, -1.12246971],\n",
              "       [-1.0270319 ,  0.0622536 ,  0.3159537 ],\n",
              "       [ 0.97367959, -0.23263189,  0.28598654],\n",
              "       [-1.0270319 ,  1.14350042,  2.14395011],\n",
              "       [ 0.97367959, -0.62581255,  0.19608508],\n",
              "       [-1.0270319 , -0.03604156, -0.37329085],\n",
              "       [-1.0270319 , -1.9036497 ,  0.49575662],\n",
              "       [ 0.97367959,  0.45543426, -0.46319232],\n",
              "       [ 0.97367959, -0.23263189, -0.25342224],\n",
              "       [ 0.97367959, -1.6087642 ,  0.55569093],\n",
              "       [ 0.97367959,  1.14350042,  0.55569093],\n",
              "       [ 0.97367959, -0.42922222, -0.79283101],\n",
              "       [ 0.97367959, -0.82240288, -0.79283101],\n",
              "       [-1.0270319 , -0.42922222, -0.28338939],\n",
              "       [ 0.97367959,  0.0622536 ,  0.04624931],\n",
              "       [-1.0270319 , -0.03604156,  2.29378589],\n",
              "       [-1.0270319 , -0.82240288,  0.40585516],\n",
              "       [ 0.97367959, -0.23263189, -0.43322516],\n",
              "       [-1.0270319 ,  1.92986174,  1.57457418],\n",
              "       [-1.0270319 , -1.01899321, -1.57197703],\n",
              "       [ 0.97367959,  2.22474724, -0.82279817],\n",
              "       [-1.0270319 ,  1.83156658,  1.0351654 ],\n",
              "       [-1.0270319 , -0.23263189, -0.6729624 ],\n",
              "       [ 0.97367959,  0.45543426, -0.46319232],\n",
              "       [ 0.97367959, -1.21558354,  0.3159537 ],\n",
              "       [ 0.97367959,  0.3571391 , -0.31335654],\n",
              "       [ 0.97367959,  0.25884393,  0.25601939],\n",
              "       [ 0.97367959,  0.94691009, -0.79283101],\n",
              "       [-1.0270319 ,  1.43838592,  0.61562524],\n",
              "       [-1.0270319 ,  0.0622536 , -0.13355362],\n",
              "       [ 0.97367959,  0.3571391 ,  0.07621646],\n",
              "       [-1.0270319 , -0.23263189,  0.04624931],\n",
              "       [-1.0270319 ,  1.04520526,  2.05404865],\n",
              "       [-1.0270319 ,  0.94691009, -0.61302809],\n",
              "       [ 0.97367959,  0.75031976, -1.30227264],\n",
              "       [ 0.97367959, -1.6087642 ,  0.07621646],\n",
              "       [-1.0270319 , -0.82240288, -0.6729624 ],\n",
              "       [-1.0270319 ,  0.25884393,  2.17391727],\n",
              "       [ 0.97367959, -0.23263189,  0.16611793],\n",
              "       [-1.0270319 ,  0.75031976, -1.42214126],\n",
              "       [ 0.97367959,  2.12645207,  1.81431142],\n",
              "       [-1.0270319 ,  0.45543426,  1.15503402],\n",
              "       [-1.0270319 ,  0.45543426,  0.61562524],\n",
              "       [-1.0270319 ,  1.53668108,  2.20388442],\n",
              "       [-1.0270319 , -1.31387871, -1.12246971],\n",
              "       [ 0.97367959,  1.92986174, -0.28338939],\n",
              "       [ 0.97367959, -0.92069805,  1.60454134],\n",
              "       [ 0.97367959,  1.04520526,  2.14395011],\n",
              "       [ 0.97367959,  0.16054877, -0.82279817],\n",
              "       [-1.0270319 ,  0.84861492,  0.79542817],\n",
              "       [ 0.97367959, -1.70705937,  0.49575662],\n",
              "       [-1.0270319 ,  1.43838592, -0.94266679],\n",
              "       [ 0.97367959, -0.13433673,  2.23385158],\n",
              "       [ 0.97367959,  0.16054877,  0.04624931],\n",
              "       [-1.0270319 ,  0.3571391 , -1.18240402],\n",
              "       [-1.0270319 ,  1.34009075,  2.29378589],\n",
              "       [ 0.97367959,  1.63497625,  0.01628215],\n",
              "       [ 0.97367959, -1.01899321,  0.58565809],\n",
              "       [-1.0270319 ,  0.65202459,  2.08401581],\n",
              "       [-1.0270319 , -1.51046904, -1.27230548],\n",
              "       [-1.0270319 ,  1.04520526,  1.48467272],\n",
              "       [ 0.97367959, -0.03604156,  0.16611793],\n",
              "       [-1.0270319 ,  1.04520526, -1.21237118],\n",
              "       [ 0.97367959,  0.3571391 , -0.52312662],\n",
              "       [-1.0270319 ,  2.12645207,  0.55569093],\n",
              "       [ 0.97367959, -1.21558354,  0.28598654],\n",
              "       [-1.0270319 ,  0.3571391 , -0.19348793],\n",
              "       [-1.0270319 ,  0.3571391 ,  0.07621646],\n",
              "       [ 0.97367959, -0.03604156, -0.49315947],\n",
              "       [ 0.97367959, -1.11728838, -1.18240402],\n",
              "       [-1.0270319 , -1.51046904, -0.43322516],\n",
              "       [-1.0270319 , -0.03604156,  0.3159537 ],\n",
              "       [ 0.97367959,  0.55372943,  1.78434426],\n",
              "       [ 0.97367959, -0.23263189, -1.48207556],\n",
              "       [ 0.97367959, -0.62581255, -1.54200987],\n",
              "       [-1.0270319 , -0.52751739,  1.42473841],\n",
              "       [-1.0270319 , -1.9036497 , -0.76286386],\n",
              "       [-1.0270319 , -1.11728838,  0.3159537 ],\n",
              "       [-1.0270319 , -0.23263189, -0.28338939],\n",
              "       [ 0.97367959, -0.72410772,  0.52572378],\n",
              "       [ 0.97367959,  1.53668108,  0.07621646],\n",
              "       [-1.0270319 , -0.13433673, -0.19348793],\n",
              "       [-1.0270319 ,  0.3571391 ,  0.07621646],\n",
              "       [ 0.97367959, -0.52751739,  1.51463987],\n",
              "       [-1.0270319 ,  0.94691009, -0.58306093],\n",
              "       [-1.0270319 , -0.23263189,  2.32375304],\n",
              "       [-1.0270319 , -1.70705937, -1.00260109],\n",
              "       [ 0.97367959, -1.9036497 ,  0.37588801],\n",
              "       [-1.0270319 ,  0.94691009, -0.6729624 ],\n",
              "       [-1.0270319 ,  0.3571391 , -0.28338939],\n",
              "       [ 0.97367959,  0.84861492, -1.24233833],\n",
              "       [-1.0270319 ,  1.34009075,  1.93418003],\n",
              "       [ 0.97367959, -0.23263189, -0.49315947],\n",
              "       [ 0.97367959, -0.23263189,  0.16611793],\n",
              "       [-1.0270319 , -0.72410772, -0.22345508],\n",
              "       [ 0.97367959, -1.01899321,  0.61562524],\n",
              "       [ 0.97367959,  0.45543426, -0.16352077],\n",
              "       [-1.0270319 ,  0.75031976,  1.84427857],\n",
              "       [-1.0270319 , -1.11728838, -0.79283101],\n",
              "       [-1.0270319 , -0.23263189, -0.13355362],\n",
              "       [ 0.97367959, -0.82240288, -0.25342224],\n",
              "       [-1.0270319 ,  1.14350042, -1.00260109],\n",
              "       [-1.0270319 ,  0.84861492, -0.85276532],\n",
              "       [-1.0270319 , -0.92069805, -0.97263394],\n",
              "       [ 0.97367959, -1.21558354, -1.42214126],\n",
              "       [-1.0270319 ,  0.55372943,  1.27490264],\n",
              "       [ 0.97367959, -0.13433673,  0.88532963],\n",
              "       [-1.0270319 , -0.92069805, -0.31335654],\n",
              "       [ 0.97367959, -1.11728838,  0.34592085],\n",
              "       [-1.0270319 , -0.23263189, -1.33223979],\n",
              "       [ 0.97367959, -0.23263189, -0.94266679],\n",
              "       [-1.0270319 , -0.62581255, -0.04365215],\n",
              "       [-1.0270319 , -1.41217387, -0.10358646],\n",
              "       [ 0.97367959, -0.03604156,  0.22605223],\n",
              "       [ 0.97367959, -1.11728838,  0.3159537 ],\n",
              "       [ 0.97367959,  0.45543426,  0.10618362],\n",
              "       [ 0.97367959,  0.75031976, -1.12246971],\n",
              "       [ 0.97367959, -1.80535453,  0.19608508],\n",
              "       [-1.0270319 , -0.42922222,  1.30486979],\n",
              "       [ 0.97367959, -0.72410772, -1.63191134],\n",
              "       [-1.0270319 , -1.41217387, -0.64299524],\n",
              "       [ 0.97367959,  0.25884393, -0.6729624 ],\n",
              "       [ 0.97367959, -0.23263189,  1.15503402],\n",
              "       [ 0.97367959,  1.04520526,  0.13615077],\n",
              "       [-1.0270319 ,  0.94691009, -1.18240402],\n",
              "       [ 0.97367959, -0.03604156,  2.23385158],\n",
              "       [-1.0270319 ,  1.14350042, -0.91269963],\n",
              "       [-1.0270319 ,  2.12645207,  0.19608508],\n",
              "       [-1.0270319 ,  0.16054877, -0.25342224],\n",
              "       [ 0.97367959,  1.43838592,  2.4136545 ],\n",
              "       [-1.0270319 ,  0.16054877, -0.31335654],\n",
              "       [ 0.97367959, -1.70705937,  0.13615077],\n",
              "       [-1.0270319 ,  2.02815691, -1.3921741 ],\n",
              "       [ 0.97367959,  0.25884393, -0.37329085],\n",
              "       [ 0.97367959,  0.16054877, -0.82279817],\n",
              "       [-1.0270319 , -1.01899321, -0.37329085],\n",
              "       [ 0.97367959, -1.9036497 , -0.52312662],\n",
              "       [ 0.97367959, -1.11728838, -1.60194418],\n",
              "       [ 0.97367959,  0.94691009, -1.33223979],\n",
              "       [ 0.97367959,  1.83156658,  1.90421288],\n",
              "       [-1.0270319 , -1.01899321, -0.3433237 ],\n",
              "       [-1.0270319 ,  0.55372943,  1.90421288],\n",
              "       [-1.0270319 ,  1.92986174, -1.09250256],\n",
              "       [ 0.97367959, -0.72410772,  1.12506687],\n",
              "       [ 0.97367959,  0.0622536 , -0.55309378],\n",
              "       [-1.0270319 , -0.23263189, -0.37329085],\n",
              "       [-1.0270319 ,  0.16054877,  0.04624931],\n",
              "       [ 0.97367959, -1.31387871, -1.3921741 ],\n",
              "       [ 0.97367959, -0.62581255,  0.13615077],\n",
              "       [ 0.97367959,  0.45543426,  2.38368735],\n",
              "       [ 0.97367959, -0.23263189,  0.07621646],\n",
              "       [ 0.97367959, -1.31387871, -0.3433237 ],\n",
              "       [ 0.97367959, -1.80535453,  0.46578947],\n",
              "       [-1.0270319 ,  0.16054877,  0.16611793],\n",
              "       [ 0.97367959,  0.3571391 ,  0.28598654],\n",
              "       [-1.0270319 , -0.42922222,  2.38368735],\n",
              "       [-1.0270319 ,  0.45543426,  0.3159537 ],\n",
              "       [ 0.97367959, -1.11728838,  0.49575662],\n",
              "       [ 0.97367959, -1.01899321, -0.3433237 ],\n",
              "       [ 0.97367959, -1.01899321,  0.55569093],\n",
              "       [-1.0270319 , -0.82240288, -1.24233833],\n",
              "       [-1.0270319 , -0.03604156,  0.7055267 ],\n",
              "       [-1.0270319 , -0.03604156,  0.04624931],\n",
              "       [ 0.97367959,  0.3571391 ,  0.52572378],\n",
              "       [-1.0270319 , -1.6087642 , -0.04365215],\n",
              "       [-1.0270319 , -0.72410772,  0.28598654],\n",
              "       [-1.0270319 ,  1.24179559, -1.00260109],\n",
              "       [-1.0270319 ,  0.94691009,  1.30486979],\n",
              "       [-1.0270319 , -0.23263189,  0.07621646],\n",
              "       [ 0.97367959, -0.72410772,  0.58565809],\n",
              "       [-1.0270319 ,  1.24179559, -0.76286386],\n",
              "       [-1.0270319 ,  2.12645207,  0.40585516],\n",
              "       [-1.0270319 , -0.03604156,  0.25601939],\n",
              "       [ 0.97367959, -0.23263189, -0.91269963],\n",
              "       [-1.0270319 , -0.42922222, -0.55309378],\n",
              "       [ 0.97367959,  0.25884393,  0.16611793],\n",
              "       [ 0.97367959,  0.94691009,  1.06513256],\n",
              "       [-1.0270319 , -1.6087642 , -1.60194418],\n",
              "       [ 0.97367959, -1.41217387, -1.48207556],\n",
              "       [ 0.97367959,  1.14350042, -1.24233833],\n",
              "       [ 0.97367959,  1.14350042,  0.58565809],\n",
              "       [-1.0270319 ,  0.3571391 ,  0.04624931],\n",
              "       [ 0.97367959, -0.33092706,  1.3648041 ],\n",
              "       [ 0.97367959, -0.13433673,  1.66447564],\n",
              "       [ 0.97367959,  0.45543426, -0.13355362],\n",
              "       [-1.0270319 , -1.11728838, -0.52312662],\n",
              "       [ 0.97367959, -0.92069805, -0.31335654],\n",
              "       [ 0.97367959, -1.70705937, -0.61302809],\n",
              "       [-1.0270319 , -1.9036497 , -0.04365215],\n",
              "       [-1.0270319 , -1.31387871, -1.27230548],\n",
              "       [ 0.97367959,  1.92986174,  0.13615077],\n",
              "       [-1.0270319 ,  0.0622536 ,  1.27490264],\n",
              "       [ 0.97367959,  1.04520526, -1.09250256],\n",
              "       [-1.0270319 , -1.01899321,  2.0240815 ],\n",
              "       [ 0.97367959,  0.75031976, -1.42214126],\n",
              "       [ 0.97367959,  0.84861492,  0.28598654],\n",
              "       [-1.0270319 , -1.11728838, -1.57197703],\n",
              "       [ 0.97367959, -1.51046904, -1.54200987],\n",
              "       [-1.0270319 ,  1.43838592,  2.05404865],\n",
              "       [-1.0270319 , -0.13433673, -0.46319232],\n",
              "       [ 0.97367959, -0.03604156,  0.13615077],\n",
              "       [ 0.97367959,  0.16054877,  1.57457418],\n",
              "       [-1.0270319 ,  0.45543426,  0.16611793],\n",
              "       [ 0.97367959,  1.04520526, -0.85276532],\n",
              "       [-1.0270319 , -1.01899321, -1.15243687],\n",
              "       [-1.0270319 , -1.41217387,  0.37588801],\n",
              "       [ 0.97367959, -0.13433673, -0.52312662],\n",
              "       [ 0.97367959,  2.22474724,  0.97523109],\n",
              "       [ 0.97367959, -0.42922222, -1.15243687],\n",
              "       [-1.0270319 , -0.62581255,  1.45470556],\n",
              "       [-1.0270319 ,  2.12645207, -1.21237118],\n",
              "       [-1.0270319 , -1.80535453, -1.45210841],\n",
              "       [ 0.97367959,  0.3571391 , -0.73289671],\n",
              "       [ 0.97367959, -0.03604156,  0.01628215],\n",
              "       [-1.0270319 , -1.31387871, -0.43322516],\n",
              "       [ 0.97367959,  0.0622536 , -0.25342224],\n",
              "       [-1.0270319 , -1.11728838,  0.43582232],\n",
              "       [ 0.97367959,  0.0622536 , -0.25342224],\n",
              "       [-1.0270319 , -0.52751739,  1.96414719],\n",
              "       [ 0.97367959, -0.52751739, -1.54200987],\n",
              "       [-1.0270319 ,  0.94691009, -0.55309378],\n",
              "       [-1.0270319 , -1.70705937,  0.37588801],\n",
              "       [ 0.97367959,  0.84861492, -0.31335654],\n",
              "       [ 0.97367959, -1.21558354,  0.52572378],\n",
              "       [-1.0270319 , -0.62581255,  0.58565809],\n",
              "       [ 0.97367959,  0.25884393,  0.04624931],\n",
              "       [ 0.97367959,  1.14350042,  0.13615077],\n",
              "       [ 0.97367959, -0.23263189,  0.10618362],\n",
              "       [ 0.97367959, -0.23263189, -1.27230548],\n",
              "       [-1.0270319 ,  2.02815691, -0.6729624 ],\n",
              "       [ 0.97367959, -0.03604156,  0.07621646],\n",
              "       [-1.0270319 ,  0.84861492, -1.12246971],\n",
              "       [-1.0270319 ,  0.16054877,  0.10618362],\n",
              "       [ 0.97367959, -1.11728838, -1.63191134],\n",
              "       [-1.0270319 ,  1.63497625,  1.15503402],\n",
              "       [ 0.97367959, -0.92069805,  0.58565809],\n",
              "       [-1.0270319 ,  0.84861492, -1.42214126],\n",
              "       [-1.0270319 , -0.42922222, -1.24233833],\n",
              "       [ 0.97367959, -0.23263189, -0.3433237 ],\n",
              "       [ 0.97367959,  0.84861492,  1.42473841],\n",
              "       [-1.0270319 , -0.13433673, -0.58306093],\n",
              "       [-1.0270319 , -1.51046904, -0.19348793],\n",
              "       [ 0.97367959,  0.25884393,  1.12506687],\n",
              "       [-1.0270319 ,  1.63497625,  1.0351654 ],\n",
              "       [ 0.97367959, -1.21558354, -1.09250256],\n",
              "       [-1.0270319 , -0.03604156, -0.22345508],\n",
              "       [-1.0270319 ,  0.0622536 , -0.58306093],\n",
              "       [ 0.97367959,  1.83156658, -0.28338939],\n",
              "       [ 0.97367959, -0.82240288,  0.16611793],\n",
              "       [ 0.97367959,  0.16054877,  0.22605223],\n",
              "       [ 0.97367959,  1.14350042,  0.49575662],\n",
              "       [-1.0270319 , -0.72410772,  1.39477125],\n",
              "       [ 0.97367959, -0.03604156, -0.52312662],\n",
              "       [ 0.97367959,  0.84861492, -1.3921741 ],\n",
              "       [ 0.97367959,  0.0622536 ,  0.04624931],\n",
              "       [-1.0270319 , -1.70705937, -1.3921741 ],\n",
              "       [ 0.97367959,  0.25884393, -0.37329085],\n",
              "       [-1.0270319 ,  1.53668108,  0.37588801],\n",
              "       [-1.0270319 , -0.23263189, -0.76286386],\n",
              "       [-1.0270319 ,  0.45543426,  0.01628215],\n",
              "       [ 0.97367959, -1.31387871, -0.43322516],\n",
              "       [-1.0270319 , -0.13433673,  0.16611793],\n",
              "       [-1.0270319 ,  0.45543426, -0.49315947],\n",
              "       [ 0.97367959,  0.94691009, -1.3921741 ],\n",
              "       [-1.0270319 ,  2.22474724,  1.15503402],\n",
              "       [-1.0270319 ,  1.04520526, -1.03256825],\n",
              "       [ 0.97367959, -1.41217387, -0.19348793],\n",
              "       [ 0.97367959,  2.12645207,  2.20388442],\n",
              "       [ 0.97367959, -0.33092706, -0.79283101],\n",
              "       [-1.0270319 , -1.11728838, -1.03256825],\n",
              "       [-1.0270319 ,  1.43838592,  1.33483695],\n",
              "       [-1.0270319 , -1.11728838,  1.45470556],\n",
              "       [ 0.97367959,  0.94691009, -1.48207556],\n",
              "       [ 0.97367959, -0.72410772, -0.61302809],\n",
              "       [ 0.97367959, -0.62581255, -0.3433237 ],\n",
              "       [-1.0270319 ,  0.75031976, -0.73289671],\n",
              "       [ 0.97367959, -0.03604156, -0.43322516],\n",
              "       [ 0.97367959, -0.33092706,  1.27490264],\n",
              "       [ 0.97367959,  1.34009075, -1.3921741 ],\n",
              "       [ 0.97367959,  0.94691009, -1.0625354 ],\n",
              "       [-1.0270319 , -0.23263189,  0.82539532],\n",
              "       [ 0.97367959, -0.13433673, -1.09250256],\n",
              "       [-1.0270319 , -0.23263189,  0.22605223],\n",
              "       [-1.0270319 ,  1.04520526,  0.79542817],\n",
              "       [ 0.97367959,  0.25884393, -0.37329085],\n",
              "       [-1.0270319 , -0.92069805,  0.46578947],\n",
              "       [ 0.97367959, -0.13433673,  1.45470556],\n",
              "       [ 0.97367959, -0.03604156,  0.28598654],\n",
              "       [-1.0270319 ,  0.0622536 , -0.43322516]])"
            ]
          },
          "metadata": {},
          "execution_count": 22
        }
      ]
    },
    {
      "cell_type": "code",
      "source": [
        "y_train"
      ],
      "metadata": {
        "id": "1PbnDTXaN-YJ",
        "outputId": "ad28ede6-88b9-4c51-b37d-56ee612f5632",
        "colab": {
          "base_uri": "https://localhost:8080/"
        }
      },
      "execution_count": 23,
      "outputs": [
        {
          "output_type": "execute_result",
          "data": {
            "text/plain": [
              "332    0\n",
              "220    0\n",
              "74     0\n",
              "89     0\n",
              "199    0\n",
              "      ..\n",
              "257    0\n",
              "87     0\n",
              "328    1\n",
              "303    1\n",
              "338    0\n",
              "Name: Purchased, Length: 300, dtype: int64"
            ]
          },
          "metadata": {},
          "execution_count": 23
        }
      ]
    },
    {
      "cell_type": "markdown",
      "metadata": {
        "id": "XOl6_ERWoYh2"
      },
      "source": [
        "**Predicting the Test set results**"
      ]
    },
    {
      "cell_type": "code",
      "metadata": {
        "id": "7xFCuAXjnqPN",
        "outputId": "0a7285df-dd97-464a-85c9-9a62e03af786",
        "colab": {
          "base_uri": "https://localhost:8080/"
        }
      },
      "source": [
        "y_pred = DT.predict(X_test)\n",
        "y_pred"
      ],
      "execution_count": 24,
      "outputs": [
        {
          "output_type": "execute_result",
          "data": {
            "text/plain": [
              "array([0, 1, 1, 0, 1, 0, 0, 0, 0, 0, 1, 0, 0, 0, 0, 0, 0, 1, 1, 1, 1, 1,\n",
              "       0, 1, 0, 1, 0, 0, 0, 0, 0, 1, 1, 0, 0, 0, 0, 0, 0, 0, 1, 0, 0, 1,\n",
              "       1, 0, 0, 0, 1, 0, 0, 1, 1, 1, 0, 0, 1, 1, 0, 0, 1, 0, 0, 0, 1, 1,\n",
              "       0, 0, 1, 0, 0, 0, 1, 1, 1, 0, 0, 1, 1, 0, 1, 1, 1, 1, 0, 1, 1, 1,\n",
              "       1, 1, 1, 1, 1, 1, 0, 0, 1, 0, 0, 0])"
            ]
          },
          "metadata": {},
          "execution_count": 24
        }
      ]
    },
    {
      "cell_type": "code",
      "source": [
        "from sklearn.metrics import accuracy_score,roc_auc_score,plot_roc_curve\n",
        "# Accuracy_Score\n",
        "acc = accuracy_score(y_test,y_pred)\n",
        "print(\"Accuracy_Score: {:.2f}\".format(acc))\n",
        "# AUROC Score\n",
        "auc = roc_auc_score(y_test,y_pred)\n",
        "print(\"AUROC_Score: {:.2f}\".format(auc))\n",
        "plot_roc_curve(DT,X_test,y_test)"
      ],
      "metadata": {
        "id": "ZU1Ce1PwOcOB",
        "outputId": "e20b3d0a-51e6-4cef-abdd-1f7049807d82",
        "colab": {
          "base_uri": "https://localhost:8080/",
          "height": 391
        }
      },
      "execution_count": 27,
      "outputs": [
        {
          "output_type": "stream",
          "name": "stdout",
          "text": [
            "Accuracy_Score: 0.89\n",
            "AUROC_Score: 0.90\n"
          ]
        },
        {
          "output_type": "stream",
          "name": "stderr",
          "text": [
            "/usr/local/lib/python3.7/dist-packages/sklearn/utils/deprecation.py:87: FutureWarning: Function plot_roc_curve is deprecated; Function :func:`plot_roc_curve` is deprecated in 1.0 and will be removed in 1.2. Use one of the class methods: :meth:`sklearn.metric.RocCurveDisplay.from_predictions` or :meth:`sklearn.metric.RocCurveDisplay.from_estimator`.\n",
            "  warnings.warn(msg, category=FutureWarning)\n"
          ]
        },
        {
          "output_type": "execute_result",
          "data": {
            "text/plain": [
              "<sklearn.metrics._plot.roc_curve.RocCurveDisplay at 0x7f2e5107f2d0>"
            ]
          },
          "metadata": {},
          "execution_count": 27
        },
        {
          "output_type": "display_data",
          "data": {
            "text/plain": [
              "<Figure size 432x288 with 1 Axes>"
            ],
            "image/png": "[encoded data removed]"
          },
          "metadata": {
            "needs_background": "light"
          }
        }
      ]
    },
    {
      "cell_type": "code",
      "source": [
        "df = pd.DataFrame({\"Actual\":y_test,\"Predicted\":y_pred})\n",
        "df"
      ],
      "metadata": {
        "id": "8tNH2F74QKEK",
        "outputId": "8a818e9f-d953-406c-caf1-b52271a8c634",
        "colab": {
          "base_uri": "https://localhost:8080/",
          "height": 423
        }
      },
      "execution_count": 29,
      "outputs": [
        {
          "output_type": "execute_result",
          "data": {
            "text/plain": [
              "     Actual  Predicted\n",
              "118       0          0\n",
              "221       1          1\n",
              "369       1          1\n",
              "244       0          0\n",
              "273       1          1\n",
              "..      ...        ...\n",
              "248       0          0\n",
              "340       1          1\n",
              "241       0          0\n",
              "102       0          0\n",
              "181       0          0\n",
              "\n",
              "[100 rows x 2 columns]"
            ],
            "text/html": [
              "\n",
              "  <div id=\"df-91a572b1-f447-4de9-8dc4-a59b80fb52a3\">\n",
              "    <div class=\"colab-df-container\">\n",
              "      <div>\n",
              "<style scoped>\n",
              "    .dataframe tbody tr th:only-of-type {\n",
              "        vertical-align: middle;\n",
              "    }\n",
              "\n",
              "    .dataframe tbody tr th {\n",
              "        vertical-align: top;\n",
              "    }\n",
              "\n",
              "    .dataframe thead th {\n",
              "        text-align: right;\n",
              "    }\n",
              "</style>\n",
              "<table border=\"1\" class=\"dataframe\">\n",
              "  <thead>\n",
              "    <tr style=\"text-align: right;\">\n",
              "      <th></th>\n",
              "      <th>Actual</th>\n",
              "      <th>Predicted</th>\n",
              "    </tr>\n",
              "  </thead>\n",
              "  <tbody>\n",
              "    <tr>\n",
              "      <th>118</th>\n",
              "      <td>0</td>\n",
              "      <td>0</td>\n",
              "    </tr>\n",
              "    <tr>\n",
              "      <th>221</th>\n",
              "      <td>1</td>\n",
              "      <td>1</td>\n",
              "    </tr>\n",
              "    <tr>\n",
              "      <th>369</th>\n",
              "      <td>1</td>\n",
              "      <td>1</td>\n",
              "    </tr>\n",
              "    <tr>\n",
              "      <th>244</th>\n",
              "      <td>0</td>\n",
              "      <td>0</td>\n",
              "    </tr>\n",
              "    <tr>\n",
              "      <th>273</th>\n",
              "      <td>1</td>\n",
              "      <td>1</td>\n",
              "    </tr>\n",
              "    <tr>\n",
              "      <th>...</th>\n",
              "      <td>...</td>\n",
              "      <td>...</td>\n",
              "    </tr>\n",
              "    <tr>\n",
              "      <th>248</th>\n",
              "      <td>0</td>\n",
              "      <td>0</td>\n",
              "    </tr>\n",
              "    <tr>\n",
              "      <th>340</th>\n",
              "      <td>1</td>\n",
              "      <td>1</td>\n",
              "    </tr>\n",
              "    <tr>\n",
              "      <th>241</th>\n",
              "      <td>0</td>\n",
              "      <td>0</td>\n",
              "    </tr>\n",
              "    <tr>\n",
              "      <th>102</th>\n",
              "      <td>0</td>\n",
              "      <td>0</td>\n",
              "    </tr>\n",
              "    <tr>\n",
              "      <th>181</th>\n",
              "      <td>0</td>\n",
              "      <td>0</td>\n",
              "    </tr>\n",
              "  </tbody>\n",
              "</table>\n",
              "<p>100 rows × 2 columns</p>\n",
              "</div>\n",
              "      <button class=\"colab-df-convert\" onclick=\"convertToInteractive('df-91a572b1-f447-4de9-8dc4-a59b80fb52a3')\"\n",
              "              title=\"Convert this dataframe to an interactive table.\"\n",
              "              style=\"display:none;\">\n",
              "        \n",
              "  <svg xmlns=\"http://www.w3.org/2000/svg\" height=\"24px\"viewBox=\"0 0 24 24\"\n",
              "       width=\"24px\">\n",
              "    <path d=\"M0 0h24v24H0V0z\" fill=\"none\"/>\n",
              "    <path d=\"M18.56 5.44l.94 2.06.94-2.06 2.06-.94-2.06-.94-.94-2.06-.94 2.06-2.06.94zm-11 1L8.5 8.5l.94-2.06 2.06-.94-2.06-.94L8.5 2.5l-.94 2.06-2.06.94zm10 10l.94 2.06.94-2.06 2.06-.94-2.06-.94-.94-2.06-.94 2.06-2.06.94z\"/><path d=\"M17.41 7.96l-1.37-1.37c-.4-.4-.92-.59-1.43-.59-.52 0-1.04.2-1.43.59L10.3 9.45l-7.72 7.72c-.78.78-.78 2.05 0 2.83L4 21.41c.39.39.9.59 1.41.59.51 0 1.02-.2 1.41-.59l7.78-7.78 2.81-2.81c.8-.78.8-2.07 0-2.86zM5.41 20L4 18.59l7.72-7.72 1.47 1.35L5.41 20z\"/>\n",
              "  </svg>\n",
              "      </button>\n",
              "      \n",
              "  <style>\n",
              "    .colab-df-container {\n",
              "      display:flex;\n",
              "      flex-wrap:wrap;\n",
              "      gap: 12px;\n",
              "    }\n",
              "\n",
              "    .colab-df-convert {\n",
              "      background-color: #E8F0FE;\n",
              "      border: none;\n",
              "      border-radius: 50%;\n",
              "      cursor: pointer;\n",
              "      display: none;\n",
              "      fill: #1967D2;\n",
              "      height: 32px;\n",
              "      padding: 0 0 0 0;\n",
              "      width: 32px;\n",
              "    }\n",
              "\n",
              "    .colab-df-convert:hover {\n",
              "      background-color: #E2EBFA;\n",
              "      box-shadow: 0px 1px 2px rgba(60, 64, 67, 0.3), 0px 1px 3px 1px rgba(60, 64, 67, 0.15);\n",
              "      fill: #174EA6;\n",
              "    }\n",
              "\n",
              "    [theme=dark] .colab-df-convert {\n",
              "      background-color: #3B4455;\n",
              "      fill: #D2E3FC;\n",
              "    }\n",
              "\n",
              "    [theme=dark] .colab-df-convert:hover {\n",
              "      background-color: #434B5C;\n",
              "      box-shadow: 0px 1px 3px 1px rgba(0, 0, 0, 0.15);\n",
              "      filter: drop-shadow(0px 1px 2px rgba(0, 0, 0, 0.3));\n",
              "      fill: #FFFFFF;\n",
              "    }\n",
              "  </style>\n",
              "\n",
              "      <script>\n",
              "        const buttonEl =\n",
              "          document.querySelector('#df-91a572b1-f447-4de9-8dc4-a59b80fb52a3 button.colab-df-convert');\n",
              "        buttonEl.style.display =\n",
              "          google.colab.kernel.accessAllowed ? 'block' : 'none';\n",
              "\n",
              "        async function convertToInteractive(key) {\n",
              "          const element = document.querySelector('#df-91a572b1-f447-4de9-8dc4-a59b80fb52a3');\n",
              "          const dataTable =\n",
              "            await google.colab.kernel.invokeFunction('convertToInteractive',\n",
              "                                                     [key], {});\n",
              "          if (!dataTable) return;\n",
              "\n",
              "          const docLinkHtml = 'Like what you see? Visit the ' +\n",
              "            '<a target=\"_blank\" href=https://colab.research.google.com/notebooks/data_table.ipynb>data table notebook</a>'\n",
              "            + ' to learn more about interactive tables.';\n",
              "          element.innerHTML = '';\n",
              "          dataTable['output_type'] = 'display_data';\n",
              "          await google.colab.output.renderOutput(dataTable, element);\n",
              "          const docLink = document.createElement('div');\n",
              "          docLink.innerHTML = docLinkHtml;\n",
              "          element.appendChild(docLink);\n",
              "        }\n",
              "      </script>\n",
              "    </div>\n",
              "  </div>\n",
              "  "
            ]
          },
          "metadata": {},
          "execution_count": 29
        }
      ]
    },
    {
      "cell_type": "markdown",
      "metadata": {
        "id": "pqaQ_HTZogaZ"
      },
      "source": [
        "**Making the Confusion Matrix**"
      ]
    },
    {
      "cell_type": "code",
      "metadata": {
        "id": "DdqNOMK8nqSs",
        "outputId": "58ee8e9c-abd2-476d-c98e-212ee1f5e5dd",
        "colab": {
          "base_uri": "https://localhost:8080/"
        }
      },
      "source": [
        "from sklearn.metrics import confusion_matrix\n",
        "con_mat = confusion_matrix(y_test,y_pred)\n",
        "con_mat"
      ],
      "execution_count": 31,
      "outputs": [
        {
          "output_type": "execute_result",
          "data": {
            "text/plain": [
              "array([[52,  8],\n",
              "       [ 3, 37]])"
            ]
          },
          "metadata": {},
          "execution_count": 31
        }
      ]
    },
    {
      "cell_type": "code",
      "source": [
        "%matplotlib inline\n",
        "import matplotlib.pyplot as plt\n",
        "import seaborn as sns\n",
        "plt.figure(figsize=(8,8))\n",
        "sns.heatmap(con_mat,annot=True)\n",
        "plt.xlabel(\"Predicted\")\n",
        "plt.ylabel(\"Actual\")"
      ],
      "metadata": {
        "id": "NFJYYhc1QvDl",
        "outputId": "dfcc0b7d-022c-4ab1-e2fc-e982da1e80ca",
        "colab": {
          "base_uri": "https://localhost:8080/",
          "height": 515
        }
      },
      "execution_count": 35,
      "outputs": [
        {
          "output_type": "execute_result",
          "data": {
            "text/plain": [
              "Text(51.0, 0.5, 'Actual')"
            ]
          },
          "metadata": {},
          "execution_count": 35
        },
        {
          "output_type": "display_data",
          "data": {
            "text/plain": [
              "<Figure size 576x576 with 2 Axes>"
            ],
            "image/png": "[encoded data removed]"
          },
          "metadata": {
            "needs_background": "light"
          }
        }
      ]
    },
    {
      "cell_type": "markdown",
      "metadata": {
        "id": "Ko5EDqqiopBl"
      },
      "source": [
        "**Visualising the Training set results**"
      ]
    },
    {
      "cell_type": "code",
      "metadata": {
        "id": "y7C-xZjFnqVC"
      },
      "source": [
        "from sklearn import tree"
      ],
      "execution_count": 36,
      "outputs": []
    },
    {
      "cell_type": "code",
      "source": [
        "vis_tree_train = DecisionTreeClassifier(criterion=\"gini\",max_depth=3,random_state=7)\n",
        "vis_tree_train.fit(X_train,y_train)"
      ],
      "metadata": {
        "id": "6uU6OuQxTaPB",
        "outputId": "c133c7d7-792a-4297-e10c-9a9ddf033367",
        "colab": {
          "base_uri": "https://localhost:8080/"
        }
      },
      "execution_count": 49,
      "outputs": [
        {
          "output_type": "execute_result",
          "data": {
            "text/plain": [
              "DecisionTreeClassifier(max_depth=3, random_state=7)"
            ]
          },
          "metadata": {},
          "execution_count": 49
        }
      ]
    },
    {
      "cell_type": "code",
      "source": [
        "fig,ax = plt.subplots(figsize=(12,12))\n",
        "tree.plot_tree(vis_tree_train,fontsize=12)\n",
        "plt.show()"
      ],
      "metadata": {
        "id": "DeDTiFCYTaR4",
        "outputId": "18d5b32d-5f08-4e30-c368-44b35e770e82",
        "colab": {
          "base_uri": "https://localhost:8080/",
          "height": 683
        }
      },
      "execution_count": 50,
      "outputs": [
        {
          "output_type": "display_data",
          "data": {
            "text/plain": [
              "<Figure size 864x864 with 1 Axes>"
            ],
            "image/png": "[encoded data removed]"
          },
          "metadata": {
            "needs_background": "light"
          }
        }
      ]
    },
    {
      "cell_type": "markdown",
      "metadata": {
        "id": "ExFSX84Hou9C"
      },
      "source": [
        "**Visualising the Test set results**"
      ]
    },
    {
      "cell_type": "code",
      "metadata": {
        "id": "zHbPz86Noj6d",
        "outputId": "42b1d70f-75a0-42bf-ee0d-c9e6e6007fd7",
        "colab": {
          "base_uri": "https://localhost:8080/"
        }
      },
      "source": [
        "vis_tree_test = DecisionTreeClassifier(criterion=\"gini\",max_depth=3,random_state=7)\n",
        "vis_tree_test.fit(X_test,y_test)"
      ],
      "execution_count": 51,
      "outputs": [
        {
          "output_type": "execute_result",
          "data": {
            "text/plain": [
              "DecisionTreeClassifier(max_depth=3, random_state=7)"
            ]
          },
          "metadata": {},
          "execution_count": 51
        }
      ]
    },
    {
      "cell_type": "code",
      "metadata": {
        "id": "RjB1Bbi4o4tm",
        "outputId": "c84fea6d-0b16-4744-bc52-3df7e8a84c4f",
        "colab": {
          "base_uri": "https://localhost:8080/",
          "height": 683
        }
      },
      "source": [
        "fig,ax = plt.subplots(figsize=(12,12))\n",
        "tree.plot_tree(vis_tree_test,fontsize=12)\n",
        "plt.show()"
      ],
      "execution_count": 52,
      "outputs": [
        {
          "output_type": "display_data",
          "data": {
            "text/plain": [
              "<Figure size 864x864 with 1 Axes>"
            ],
            "image/png": "[encoded data removed]"
          },
          "metadata": {
            "needs_background": "light"
          }
        }
      ]
    }
  ]
}